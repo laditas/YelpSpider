{
 "cells": [
  {
   "cell_type": "code",
   "execution_count": null,
   "metadata": {},
   "outputs": [],
   "source": [
    "from selenium.webdriver import firefox"
   ]
  },
  {
   "cell_type": "code",
   "execution_count": null,
   "metadata": {},
   "outputs": [],
   "source": []
  },
  {
   "cell_type": "code",
   "execution_count": null,
   "metadata": {},
   "outputs": [],
   "source": []
  },
  {
   "cell_type": "code",
   "execution_count": 37,
   "metadata": {},
   "outputs": [],
   "source": [
    "import sqlite3\n",
    "class database():\n",
    "    def __init__(self,dbname = 'mydb'):\n",
    "        self.dbname = dbname+'.db'\n",
    "        self.conn = None\n",
    "        self.cur = None\n",
    "    def _createdb(self):\n",
    "        \"\"\"\n",
    "        创建数据库restaurant表\n",
    "        \"\"\"\n",
    "        dbname = self.dbname\n",
    "        self.conn = sqlite3.connect(dbname)\n",
    "        self.cur = self.conn.cursor()\n",
    "        try:\n",
    "            self.cur.execute(\"drop table restaurant\")###先删除同名表\n",
    "            self.conn.commit()\n",
    "        except:\n",
    "            pass\n",
    "        self.cur.execute('''create table restaurant\n",
    "                        ( name TEXT NOT NULL,\n",
    "                          city TEXT NOT null,\n",
    "                          location TEXT ,\n",
    "                          price INTEGER, \n",
    "                          rate real ,\n",
    "                          reviews INTEGER,\n",
    "                          pic TEXT,\n",
    "                          primary key(city,name,location)\n",
    "                        )''')\n",
    "        self.conn.commit()\n",
    "        self.cur.close()\n",
    "        self.conn.close()\n",
    "    def connect(self):\n",
    "        \"\"\"\n",
    "        连接到数据库\n",
    "        \"\"\"\n",
    "        if not self.isconnected:\n",
    "            self.conn = sqlite3.connect(self.dbname)\n",
    "            self.cur = self.conn.cursor()\n",
    "            \n",
    "    def disconnect(self):\n",
    "        \"\"\"\n",
    "        和数据库断开连接\n",
    "        \"\"\"\n",
    "        if self.isconnected:\n",
    "            self.conn.commit()\n",
    "            self.conn.close()\n",
    "        \n",
    "    def insert(self, datalist):\n",
    "        \"\"\"\n",
    "        向数据库中插入数据\n",
    "        Args:\n",
    "            datalist: 列表类型，即将插入的数据构成的列表\n",
    "        \"\"\"\n",
    "        assert len(datalist)==7\n",
    "        if self.isconnected:\n",
    "            self.cur = self.conn.cursor()\n",
    "        else:\n",
    "            self.connect()\n",
    "        try:\n",
    "            self.cur.execute('''insert into restaurant\n",
    "                        values(?,?,?,?,?,?,?)''',datalist)\n",
    "        except sqlite3.IntegrityError as e:\n",
    "            print(datalist)\n",
    "            print(e)\n",
    "        self.conn.commit()\n",
    "\n",
    "    @property\n",
    "    def isconnected(self):\n",
    "        \"\"\"\n",
    "        判断database类有没有连解到数据库\n",
    "        \"\"\"\n",
    "        if isinstance(self.conn, sqlite3.Connection):\n",
    "            try:\n",
    "                self.conn.execute('''\n",
    "                        select 1 from restaurant LIMIT 1;\n",
    "                                ''')\n",
    "                return True\n",
    "            except sqlite3.ProgrammingError as e:\n",
    "                return False\n",
    "        else:\n",
    "            return False\n",
    "    @property\n",
    "    def count(self):\n",
    "        \"\"\"\n",
    "        判断数据库条目数量\n",
    "        \"\"\"\n",
    "        if not self.isconnected:\n",
    "            self.connect()\n",
    "        self.cur.execute('''\n",
    "        select count(1) \n",
    "        from restaurant\n",
    "        ''')\n",
    "        count = self.cur.fetchone()[0]\n",
    "        return count"
   ]
  },
  {
   "cell_type": "code",
   "execution_count": 30,
   "metadata": {},
   "outputs": [],
   "source": [
    "# -*- coding: utf-8 -*-\n",
    "import sys\n",
    "from selenium.webdriver import Firefox\n",
    "from selenium.webdriver import ActionChains\n",
    "from selenium.webdriver.common.by import By\n",
    "from selenium.common.exceptions import NoSuchElementException\n",
    "from selenium.webdriver.support.ui import WebDriverWait\n",
    "from selenium.webdriver.support import expected_conditions as ec\n",
    "class selecrawler():\n",
    "    def __init__(self):\n",
    "        self.db = None\n",
    "        self.driver = Firefox()\n",
    "        self.driver.implicitly_wait(1)##设定获取资源时间为一秒\n",
    "        self.citydict = {}\n",
    "        self.wait  = WebDriverWait(self.driver, 5)##让浏览器最多显示等待5秒\n",
    "        \n",
    "    def get_all_cities(self):\n",
    "        \"\"\"\n",
    "        从yelp网站中获取所有城市的url信息\n",
    "        \"\"\"\n",
    "        url = 'https://www.yelp.com/locations'\n",
    "        self.driver.get(url)\n",
    "        cities = self.driver.find_elements_by_class_name('cities')\n",
    "        for city in cities:\n",
    "            city = city.find_element_by_tag_name('a')\n",
    "            cityname = str(city.text)     #获取城市的名字\n",
    "            cityurl = city.get_property('href')#获取城市的访问地址\n",
    "            self.citydict[cityname] = cityurl\n",
    "        \n",
    "    def handle_onecity(self, cityname:str,cityurl:str):\n",
    "        \"\"\"\n",
    "        爬去一个城市的数据\n",
    "        Args:\n",
    "            cityname: str类型 即将爬去的城市的名称\n",
    "            cityurl: str类型 城市的url地址\n",
    "        \"\"\"\n",
    "        self.driver.get(cityurl)\n",
    "        ##导航到餐厅页面\n",
    "        res = self.driver.find_element_by_css_selector('li.homepage-hero_category:nth-child(1) > div:nth-child(1) > a:nth-child(2)')\n",
    "        ori_url = res.get_property('href')\n",
    "        count = 0\n",
    "        resurl = ori_url+'&start='+str(count)\n",
    "        self.driver.get(resurl)\n",
    "        data = []\n",
    "        while True:\n",
    "            try:\n",
    "                ress = self.driver.find_element_by_css_selector('ul.undefined:nth-child(1)')##等待餐厅列表的出现\n",
    "                reslist = ress.find_elements_by_tag_name('li')\n",
    "                assert len(reslist)!=0, 'restaurant list is empty!'\n",
    "                for index,res in enumerate(reslist):\n",
    "                    try:\n",
    "                        datalist = self._parse_one_restaurant(cityname,res)\n",
    "                        data.append(datalist)\n",
    "                    except Exception as e:\n",
    "                        print(\"handling {} page{} the {}th restaurant goes wrong!!\".format(cityname, count,index))\n",
    "                        print(e)\n",
    "                        print(sys.exc_info())\n",
    "                count+=30\n",
    "                resurl = ori_url+'&start='+str(count)#找到下一个的url\n",
    "                self.driver.get(resurl)       \n",
    "                #self.driver.execute_script(\"scrollTo(0,7500);\")\n",
    "                #condition = ec.presence_of_element_located((By.CSS_SELECTOR,'.navigation-button-container__373c0__2sEbf'))#期待Next导航栏出现\n",
    "                #next_button = self.wait.until(condition)##跳转到下一页中\n",
    "                #nx_url = next_button.find_element_by_tag_name('a').get_property('href')\n",
    "                #print(nx_url)\n",
    "                #self.driver.get(nx_url)\n",
    "                #self.driver.execute_script(\"arguments[0].click();\",next_button)\n",
    "                #ActionChains(self.driver).move_to_element(next_button).click(next_button).perform()\n",
    "            except NoSuchElementException as e:\n",
    "                ##判断是否已经到了城市餐厅的末尾\n",
    "                theend = self.wait.until(ec.text_to_be_present_in_element((By.CSS_SELECTOR,'.lemon--h3__373c0__5Q5tF'),'We\\'re sorry, the page of results you requested is unavailable.'))\n",
    "                if theend:\n",
    "                    print('have reached the end of {}'.format(cityname))\n",
    "                    break\n",
    "                else:\n",
    "                    print(e)\n",
    "                    break\n",
    "            except Exception as e:\n",
    "                print(\"when handling city {} some thing unexpected happened\")\n",
    "                print(e)\n",
    "        ##begin to insert data\n",
    "        if self.db:\n",
    "            for datalist in data:\n",
    "                self.db.insert(datalist)\n",
    "            print(\"already insert the data of {}\".format(cityname))\n",
    "        else:\n",
    "            print(\"the crawler has not connected to db!\")\n",
    "            \n",
    "\n",
    "    def _parse_one_restaurant(self,cityname,ele):\n",
    "        \"\"\"\n",
    "        处理从网页中获得的餐厅element\n",
    "        Args:\n",
    "            cityname: str类型，城市名称\n",
    "            ele: FirefoxWebElement类型，代表一个餐厅\n",
    "        return:\n",
    "            datalist：以列表的形式返回餐厅的信息，长度为7 里面元素可能为None\n",
    "        \"\"\"\n",
    "        res_name = None\n",
    "        location = None\n",
    "        price = None \n",
    "        rate = None \n",
    "        reviews = None\n",
    "        img_url = None\n",
    "        res_num = ele.find_element_by_tag_name('h3').text.split('. ')[0]##餐厅的编码，用于报错使用\n",
    "        res_name = ele.find_element_by_tag_name('h3').text.split('. ')[1]##获取餐馆的名字\n",
    "        try:\n",
    "            reviews = ele.find_element_by_css_selector(\"span[class='lemon--span__373c0__1xR0D text__373c0__2pB8f reviewCount__373c0__2r4xT text-color--mid__373c0__3G312 text-align--left__373c0__2pnx_']\")\n",
    "            reviews = int(reviews.text.split(' ')[0])##获取餐馆的评论数量\n",
    "            price = ele.find_element_by_css_selector(\"div[class='lemon--div__373c0__6Tkil priceCategory__373c0__3zW0R border-color--default__373c0__2oFDT']\")\n",
    "            price = len(price.text.split('$'))-1 ##获取餐厅的价格等级\n",
    "            ##获得餐厅地点信息\n",
    "            location = ele.find_elements_by_css_selector(\"div[class='lemon--div__373c0__6Tkil display--inline-block__373c0__2de_K u-space-t1 border-color--default__373c0__2oFDT']\")[1]\n",
    "            location = location.text##有时无法找到地点信息\n",
    "            rate=ele.find_element_by_css_selector(\"div[role='img']\")\n",
    "            rate = float(rate.get_attribute('aria-label').split(' ')[0])\n",
    "            img  = ele.find_element_by_tag_name('img')\n",
    "            img_url = str(img.get_attribute('src'))\n",
    "        except NoSuchElementException as e:##处理爬取过程中的异常\n",
    "            print(cityname,res_num)\n",
    "            print(e)\n",
    "        except IndexError as e:\n",
    "            print(cityname,res_num)\n",
    "            print(e)\n",
    "        except: \n",
    "            raise\n",
    "        datalist = [res_name,cityname,location,price,rate,reviews,img_url]\n",
    "        return datalist\n",
    "    \n",
    "    def connectdb(self,conn):\n",
    "        \"\"\"\n",
    "        连接到数据库\n",
    "        Args:\n",
    "            conn: sqlite3.Connection 类型，即将使用的数据库连接\n",
    "        \"\"\"\n",
    "        assert isinstance(conn,database), 'wrong db type'\n",
    "        if conn.isconnected:\n",
    "            self.db = conn\n",
    "        else:\n",
    "            conn.connect()\n",
    "            self.db = conn"
   ]
  },
  {
   "cell_type": "code",
   "execution_count": 11,
   "metadata": {
    "scrolled": true
   },
   "outputs": [
    {
     "name": "stdout",
     "output_type": "stream",
     "text": [
      "hk 358\n",
      "list index out of range\n",
      "have reached the end of hk\n",
      "already insert the data of hk\n"
     ]
    }
   ],
   "source": [
    "db = database()\n",
    "\n",
    "db._createdb()\n",
    "\n",
    "sele = selecrawler()\n",
    "\n",
    "sele.connectdb(db)\n",
    "\n",
    "sele.handle_onecity('hk','https://www.yelp.com/hk')\n"
   ]
  },
  {
   "cell_type": "code",
   "execution_count": 12,
   "metadata": {},
   "outputs": [
    {
     "data": {
      "text/plain": [
       "<sqlite3.Cursor at 0x7f5caa5c43b0>"
      ]
     },
     "execution_count": 12,
     "metadata": {},
     "output_type": "execute_result"
    }
   ],
   "source": [
    "db.cur.execute('''\n",
    "            select count(1) from restaurant\n",
    "                ''')"
   ]
  },
  {
   "cell_type": "code",
   "execution_count": 18,
   "metadata": {},
   "outputs": [],
   "source": [
    "from selenium.webdriver import Firefox"
   ]
  },
  {
   "cell_type": "code",
   "execution_count": 19,
   "metadata": {},
   "outputs": [],
   "source": [
    "driver = Firefox()"
   ]
  },
  {
   "cell_type": "code",
   "execution_count": 21,
   "metadata": {},
   "outputs": [],
   "source": [
    "driver.get(\"https://www.baidu.com\")\n",
    "ele = driver.find_element_by_tag_name(\"div\")"
   ]
  },
  {
   "cell_type": "code",
   "execution_count": 22,
   "metadata": {},
   "outputs": [
    {
     "data": {
      "text/plain": [
       "selenium.webdriver.firefox.webelement.FirefoxWebElement"
      ]
     },
     "execution_count": 22,
     "metadata": {},
     "output_type": "execute_result"
    }
   ],
   "source": [
    "type(ele)"
   ]
  },
  {
   "cell_type": "code",
   "execution_count": 6,
   "metadata": {},
   "outputs": [],
   "source": [
    "db._createdb()"
   ]
  },
  {
   "cell_type": "code",
   "execution_count": 31,
   "metadata": {},
   "outputs": [],
   "source": [
    "sele = selecrawler()"
   ]
  },
  {
   "cell_type": "code",
   "execution_count": 32,
   "metadata": {},
   "outputs": [],
   "source": [
    "sele.get_all_cities()"
   ]
  },
  {
   "cell_type": "code",
   "execution_count": 39,
   "metadata": {},
   "outputs": [
    {
     "data": {
      "text/plain": [
       "int"
      ]
     },
     "execution_count": 39,
     "metadata": {},
     "output_type": "execute_result"
    }
   ],
   "source": [
    "db  = database()\n",
    "type(db.count)"
   ]
  },
  {
   "cell_type": "code",
   "execution_count": 8,
   "metadata": {},
   "outputs": [],
   "source": [
    "db._createdb()"
   ]
  },
  {
   "cell_type": "code",
   "execution_count": null,
   "metadata": {},
   "outputs": [],
   "source": [
    "IntegerityError"
   ]
  },
  {
   "cell_type": "code",
   "execution_count": null,
   "metadata": {},
   "outputs": [],
   "source": [
    "db.cur.execute('''\n",
    "            select * from restaurant \n",
    "            ''')"
   ]
  },
  {
   "cell_type": "code",
   "execution_count": null,
   "metadata": {},
   "outputs": [],
   "source": [
    "db.cur.fetchall()"
   ]
  },
  {
   "cell_type": "code",
   "execution_count": null,
   "metadata": {},
   "outputs": [],
   "source": [
    "ll = []\n",
    "try:\n",
    "    print(ll[100])\n",
    "except :\n",
    "    print(e)\n",
    "    "
   ]
  },
  {
   "cell_type": "code",
   "execution_count": 26,
   "metadata": {},
   "outputs": [
    {
     "ename": "SyntaxError",
     "evalue": "invalid syntax (<ipython-input-26-19c64cb326c9>, line 1)",
     "output_type": "error",
     "traceback": [
      "\u001b[0;36m  File \u001b[0;32m\"<ipython-input-26-19c64cb326c9>\"\u001b[0;36m, line \u001b[0;32m1\u001b[0m\n\u001b[0;31m    def i(n): --->int\u001b[0m\n\u001b[0m                 ^\u001b[0m\n\u001b[0;31mSyntaxError\u001b[0m\u001b[0;31m:\u001b[0m invalid syntax\n"
     ]
    }
   ],
   "source": [
    "def i(n): --->int\n",
    "    return int(n)"
   ]
  },
  {
   "cell_type": "code",
   "execution_count": null,
   "metadata": {},
   "outputs": [],
   "source": [
    "cur = db.cur"
   ]
  },
  {
   "cell_type": "code",
   "execution_count": null,
   "metadata": {},
   "outputs": [],
   "source": [
    "cur.execute('''\n",
    "        select * from restaurant\n",
    "           ''')"
   ]
  },
  {
   "cell_type": "code",
   "execution_count": null,
   "metadata": {},
   "outputs": [],
   "source": [
    "cur.fetchall()"
   ]
  },
  {
   "cell_type": "code",
   "execution_count": null,
   "metadata": {},
   "outputs": [],
   "source": []
  },
  {
   "cell_type": "code",
   "execution_count": null,
   "metadata": {},
   "outputs": [],
   "source": [
    "from webdriver."
   ]
  },
  {
   "cell_type": "code",
   "execution_count": null,
   "metadata": {},
   "outputs": [],
   "source": [
    "ActionChains().move_to_element_with_offset"
   ]
  },
  {
   "cell_type": "code",
   "execution_count": null,
   "metadata": {},
   "outputs": [],
   "source": [
    "from selenium.webdriver.support.ui import WebDriverWait\n",
    "from selenium.webdriver.support import expected_conditions as ec\n",
    "from selenium.webdriver.common.by import By"
   ]
  },
  {
   "cell_type": "code",
   "execution_count": null,
   "metadata": {},
   "outputs": [],
   "source": [
    "driver = Firefox()\n",
    "driver.get('https://www.yelp.com/search?cflt=restaurants&find_loc=Hong+Kong&start=0')"
   ]
  },
  {
   "cell_type": "code",
   "execution_count": null,
   "metadata": {},
   "outputs": [],
   "source": [
    "res = driver.find_element_by_css_selector('li.domtags--li__373c0__3TKyB:nth-child(8)')"
   ]
  },
  {
   "cell_type": "code",
   "execution_count": null,
   "metadata": {},
   "outputs": [],
   "source": [
    "rate = res.find_element_by_tag_name('img')"
   ]
  },
  {
   "cell_type": "code",
   "execution_count": null,
   "metadata": {},
   "outputs": [],
   "source": [
    "rate.get_attribute('src')"
   ]
  },
  {
   "cell_type": "code",
   "execution_count": null,
   "metadata": {},
   "outputs": [],
   "source": [
    "rate.get_attribute('aria-label').split(' ')[0]"
   ]
  },
  {
   "cell_type": "code",
   "execution_count": null,
   "metadata": {
    "scrolled": true
   },
   "outputs": [],
   "source": [
    "rate."
   ]
  },
  {
   "cell_type": "code",
   "execution_count": null,
   "metadata": {},
   "outputs": [],
   "source": [
    "rate.__dict__"
   ]
  },
  {
   "cell_type": "code",
   "execution_count": null,
   "metadata": {},
   "outputs": [],
   "source": [
    "\n",
    "tags = res.find_elements_by_tag_name('a')\n"
   ]
  },
  {
   "cell_type": "code",
   "execution_count": null,
   "metadata": {},
   "outputs": [],
   "source": [
    "for t in tags:\n",
    "    print(t.text)"
   ]
  },
  {
   "cell_type": "code",
   "execution_count": null,
   "metadata": {},
   "outputs": [],
   "source": [
    "resl =res.text.split('\\n')\n",
    "resl[0].split('. ')[1]"
   ]
  },
  {
   "cell_type": "code",
   "execution_count": null,
   "metadata": {},
   "outputs": [],
   "source": [
    "resl"
   ]
  },
  {
   "cell_type": "code",
   "execution_count": null,
   "metadata": {},
   "outputs": [],
   "source": [
    "ele = driver.find_element_by_css_selector('li.homepage-hero_category:nth-child(1) > div:nth-child(1) > a:nth-child(2)')"
   ]
  },
  {
   "cell_type": "code",
   "execution_count": null,
   "metadata": {},
   "outputs": [],
   "source": [
    "ele.get_property('href')"
   ]
  },
  {
   "cell_type": "code",
   "execution_count": null,
   "metadata": {},
   "outputs": [],
   "source": [
    "eles = driver.find_elements_by_class_name('cities')"
   ]
  },
  {
   "cell_type": "code",
   "execution_count": null,
   "metadata": {},
   "outputs": [],
   "source": [
    "cities = []\n",
    "for ele in eles:\n",
    "    city = ele.find_element_by_tag_name('a')\n",
    "    cities.append(str(city.text))"
   ]
  },
  {
   "cell_type": "code",
   "execution_count": null,
   "metadata": {},
   "outputs": [],
   "source": [
    "driver = Firefox()\n",
    "driver.get('https://www.yelp.com/hk')\n",
    "ele = driver.find_element_by_link_text('Restaurants')"
   ]
  },
  {
   "cell_type": "code",
   "execution_count": null,
   "metadata": {},
   "outputs": [],
   "source": [
    "ele.get_property('href')"
   ]
  },
  {
   "cell_type": "code",
   "execution_count": null,
   "metadata": {},
   "outputs": [],
   "source": [
    "ec.presence_of_element_located??"
   ]
  },
  {
   "cell_type": "code",
   "execution_count": null,
   "metadata": {},
   "outputs": [],
   "source": [
    "import sys\n",
    "sys.exc"
   ]
  },
  {
   "cell_type": "code",
   "execution_count": null,
   "metadata": {},
   "outputs": [],
   "source": [
    "city.get_property('href')"
   ]
  },
  {
   "cell_type": "code",
   "execution_count": null,
   "metadata": {},
   "outputs": [],
   "source": [
    "webdriver.Firefox()"
   ]
  },
  {
   "cell_type": "code",
   "execution_count": null,
   "metadata": {},
   "outputs": [],
   "source": [
    "db = database()"
   ]
  },
  {
   "cell_type": "code",
   "execution_count": null,
   "metadata": {},
   "outputs": [],
   "source": [
    "db._createdb()"
   ]
  },
  {
   "cell_type": "code",
   "execution_count": null,
   "metadata": {},
   "outputs": [],
   "source": [
    "db.connect()"
   ]
  },
  {
   "cell_type": "code",
   "execution_count": null,
   "metadata": {},
   "outputs": [],
   "source": [
    "db.insert([1,1,1,1,1,1])"
   ]
  },
  {
   "cell_type": "code",
   "execution_count": null,
   "metadata": {},
   "outputs": [],
   "source": [
    "db.disconnect()"
   ]
  },
  {
   "cell_type": "code",
   "execution_count": null,
   "metadata": {},
   "outputs": [],
   "source": [
    "db.cur.execute('''select 1 from restaurant LIMIT 1 ''')"
   ]
  },
  {
   "cell_type": "code",
   "execution_count": null,
   "metadata": {},
   "outputs": [],
   "source": [
    "'sdfa'.split('$')"
   ]
  },
  {
   "cell_type": "code",
   "execution_count": null,
   "metadata": {},
   "outputs": [],
   "source": [
    "db.cur.fetchall()"
   ]
  },
  {
   "cell_type": "code",
   "execution_count": null,
   "metadata": {},
   "outputs": [],
   "source": [
    "db.insert([2,3,4,5,6,7])"
   ]
  },
  {
   "cell_type": "code",
   "execution_count": null,
   "metadata": {},
   "outputs": [],
   "source": [
    "db.connect()\n",
    "db.cur.execute(''' drop table restaurant''')"
   ]
  },
  {
   "cell_type": "code",
   "execution_count": null,
   "metadata": {},
   "outputs": [],
   "source": [
    "db.conn.commit()\n",
    "db.disconnect()"
   ]
  },
  {
   "cell_type": "code",
   "execution_count": null,
   "metadata": {},
   "outputs": [],
   "source": [
    "db.cur.execute('''select * from restaurant''')"
   ]
  },
  {
   "cell_type": "code",
   "execution_count": null,
   "metadata": {},
   "outputs": [],
   "source": [
    "db.isconnected"
   ]
  },
  {
   "cell_type": "code",
   "execution_count": null,
   "metadata": {},
   "outputs": [],
   "source": [
    "conn = sqlite3.connect(\"mydb.db\")"
   ]
  },
  {
   "cell_type": "code",
   "execution_count": null,
   "metadata": {},
   "outputs": [],
   "source": [
    "cur = conn.cursor()"
   ]
  },
  {
   "cell_type": "code",
   "execution_count": null,
   "metadata": {},
   "outputs": [],
   "source": [
    "cur.execute('''\n",
    "            insert into restaurant\n",
    "            values(?,?,?,?,?,?)\n",
    "            ''',[1,2,3,4,5,6])"
   ]
  },
  {
   "cell_type": "code",
   "execution_count": null,
   "metadata": {},
   "outputs": [],
   "source": [
    "conn.commit()"
   ]
  },
  {
   "cell_type": "code",
   "execution_count": null,
   "metadata": {},
   "outputs": [],
   "source": [
    "conn.close()"
   ]
  },
  {
   "cell_type": "code",
   "execution_count": null,
   "metadata": {},
   "outputs": [],
   "source": [
    "cur.execute('''\n",
    "            select *\n",
    "            from restaurant\n",
    "            ''')"
   ]
  },
  {
   "cell_type": "code",
   "execution_count": null,
   "metadata": {},
   "outputs": [],
   "source": [
    "conn."
   ]
  },
  {
   "cell_type": "code",
   "execution_count": null,
   "metadata": {},
   "outputs": [],
   "source": [
    "conn.execute??"
   ]
  },
  {
   "cell_type": "code",
   "execution_count": null,
   "metadata": {},
   "outputs": [],
   "source": [
    "cur.execute??"
   ]
  },
  {
   "cell_type": "code",
   "execution_count": null,
   "metadata": {},
   "outputs": [],
   "source": [
    "cur =  conn.cursor()"
   ]
  },
  {
   "cell_type": "code",
   "execution_count": null,
   "metadata": {},
   "outputs": [],
   "source": [
    "cur.lastrowid"
   ]
  },
  {
   "cell_type": "code",
   "execution_count": null,
   "metadata": {},
   "outputs": [],
   "source": [
    "cur.execute('''\n",
    "            insert restaurant\n",
    "            ''')"
   ]
  }
 ],
 "metadata": {
  "kernelspec": {
   "display_name": "crawler",
   "language": "python",
   "name": "crawler"
  },
  "language_info": {
   "codemirror_mode": {
    "name": "ipython",
    "version": 3
   },
   "file_extension": ".py",
   "mimetype": "text/x-python",
   "name": "python",
   "nbconvert_exporter": "python",
   "pygments_lexer": "ipython3",
   "version": "3.6.7"
  }
 },
 "nbformat": 4,
 "nbformat_minor": 2
}
